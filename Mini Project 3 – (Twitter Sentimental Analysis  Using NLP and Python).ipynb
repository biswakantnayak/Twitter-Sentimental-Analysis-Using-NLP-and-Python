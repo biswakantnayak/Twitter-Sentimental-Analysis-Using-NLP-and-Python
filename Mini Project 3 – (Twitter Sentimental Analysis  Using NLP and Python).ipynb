{
 "cells": [
  {
   "cell_type": "markdown",
   "id": "0d865e2d",
   "metadata": {},
   "source": [
    "# Mini Project 3 – Twitter Sentimental Analysis Using NLP and Python\n",
    "\n",
    "**Scenario:** By analyzing text data, we can find meaningful insights from non-numeric data that can help us achieve our objective. With the help of NLP and its concepts, we can do it. Twitter is one of the biggest platforms that people use to write their messages, express their feelings about a particular topic, and share knowledge in the form of text. By analyzing text data, we can make good decisions for different use cases like judging the sentiment of the human tweets, and any product review/comments can tell us the performance of a product in the market.\n",
    "\n",
    "\n",
    "NLP allows us to study and understand the colinearity of the data. So we can predict our objective. \n",
    "\n",
    "**Objective:** Use Python libraries such as Pandas for data operations, Seaborn and Matplotlib for data visualization and EDA tasks, NLTK to extract and analyze the information, Sklearn for model building and performance visualization, to predict our different categories of people’s mindsets.\n",
    "\n",
    "## Dataset description: \n",
    "The data contain information about many Tweets in the form of text and their types, as mentioned below.\n",
    "\n",
    "**Tweets:** Data is in the form of a sentence written by individuals.\n",
    "\n",
    "**category:** Numeric(0: Neutral, -1: Negative, 1: Positive) (It is our dependent variable)\n",
    "\n",
    "## Tasks to be performed:\n",
    "\n",
    "The following tasks are to be performed:\n",
    "\n",
    "- Read the Data from the Given excel file.\n",
    "\n",
    "- Change our dependent variable to categorical. ( 0 to “Neutral,” -1 to “Negative”, 1 to “Positive”)\n",
    "\n",
    "- Do Missing value analysis and drop all null/missing values\n",
    "\n",
    "- Do text cleaning. (remove every symbol except alphanumeric, transform all words to lower case, and remove punctuation and stopwords )\n",
    "\n",
    "- Create  a new column and find the length of each sentence (how many words they contain)\n",
    "\n",
    "- Split data into dependent(X) and independent(y) dataframe\n",
    "\n",
    "- Do operations on text data \n",
    "\n",
    "- **Hints:**\n",
    "\n",
    "    - Do one-hot encoding for each sentence (use TensorFlow)\n",
    "     - Add padding from the front side (use Tensorflow)\n",
    "\n",
    "     - Build an LSTM model and compile it (describe features, input length,       vocabulary size, information drop-out layer, activation function for       output, )\n",
    "     \n",
    "     - Do dummy variable creation for the dependent variable\n",
    "    \n",
    "     - split the data into tests and train \n",
    "\n",
    "\n",
    "- Train new model\n",
    "\n",
    "- Normalize the prediction as same as the original data(prediction might be in decimal, so whoever is nearest to 1 is predicted as yes and set other as 0)\n",
    "\n",
    "- Measure performance metrics and accuracy\n",
    "\n",
    "- print Classification report"
   ]
  },
  {
   "cell_type": "markdown",
   "id": "325d5cad",
   "metadata": {},
   "source": [
    "# Importing all the required modules:-"
   ]
  },
  {
   "cell_type": "code",
   "execution_count": 1,
   "id": "caf6c8d9",
   "metadata": {},
   "outputs": [
    {
     "name": "stdout",
     "output_type": "stream",
     "text": [
      "WARNING:tensorflow:From C:\\Users\\ASUS\\anaconda3\\Lib\\site-packages\\keras\\src\\losses.py:2976: The name tf.losses.sparse_softmax_cross_entropy is deprecated. Please use tf.compat.v1.losses.sparse_softmax_cross_entropy instead.\n",
      "\n"
     ]
    }
   ],
   "source": [
    "import pandas as pd\n",
    "import numpy as np\n",
    "import string\n",
    "import re\n",
    "import nltk\n",
    "from nltk.corpus import stopwords\n",
    "from nltk.tokenize import word_tokenize\n",
    "from tensorflow.keras.preprocessing.text import Tokenizer\n",
    "from tensorflow.keras.preprocessing.sequence import pad_sequences\n",
    "from tensorflow.keras.models import Sequential\n",
    "from tensorflow.keras.layers import Embedding, LSTM, Dense, Dropout\n",
    "from sklearn.model_selection import train_test_split\n",
    "from sklearn.metrics import accuracy_score, classification_report\n",
    "import warnings\n",
    "warnings.filterwarnings(\"ignore\")"
   ]
  },
  {
   "cell_type": "markdown",
   "id": "74a9bca6",
   "metadata": {},
   "source": [
    "# Task-1:- \n",
    "\n",
    "**Read the Data from the Given excel file.**"
   ]
  },
  {
   "cell_type": "code",
   "execution_count": 2,
   "id": "7f75b615",
   "metadata": {},
   "outputs": [
    {
     "name": "stdout",
     "output_type": "stream",
     "text": [
      "Shape of the Twitter_Data_df Dataset is:-  (162980, 2) \n",
      "\n",
      "Columns of Twitter_Data_df Dataset is:- \n",
      " Index(['clean_text', 'category'], dtype='object') \n",
      "\n",
      "The info of Twitter_Data_df Dataset is:- \n",
      "\n",
      "<class 'pandas.core.frame.DataFrame'>\n",
      "RangeIndex: 162980 entries, 0 to 162979\n",
      "Data columns (total 2 columns):\n",
      " #   Column      Non-Null Count   Dtype  \n",
      "---  ------      --------------   -----  \n",
      " 0   clean_text  162976 non-null  object \n",
      " 1   category    162973 non-null  float64\n",
      "dtypes: float64(1), object(1)\n",
      "memory usage: 2.5+ MB\n"
     ]
    }
   ],
   "source": [
    "# Step-1:- To import the Twitter_Data_df dataset:\n",
    "Twitter_Data_df = pd.read_csv(r\"Twitter_Data.csv\")\n",
    "\n",
    "# Step-2:- Checking the shape,cloumns and info of our Twitter_Data_df data:\n",
    "print('Shape of the Twitter_Data_df Dataset is:- ',\n",
    "      Twitter_Data_df.shape,'\\n')\n",
    "\n",
    "print(\"Columns of Twitter_Data_df Dataset is:- \\n\",\n",
    "     Twitter_Data_df.columns,'\\n')\n",
    "\n",
    "print('The info of Twitter_Data_df Dataset is:- \\n')\n",
    "Twitter_Data_df.info()"
   ]
  },
  {
   "cell_type": "code",
   "execution_count": 3,
   "id": "9c01aa37",
   "metadata": {},
   "outputs": [
    {
     "name": "stdout",
     "output_type": "stream",
     "text": [
      "Description of our Twitter_Data_df data is:- \n"
     ]
    },
    {
     "data": {
      "text/html": [
       "<div>\n",
       "<style scoped>\n",
       "    .dataframe tbody tr th:only-of-type {\n",
       "        vertical-align: middle;\n",
       "    }\n",
       "\n",
       "    .dataframe tbody tr th {\n",
       "        vertical-align: top;\n",
       "    }\n",
       "\n",
       "    .dataframe thead th {\n",
       "        text-align: right;\n",
       "    }\n",
       "</style>\n",
       "<table border=\"1\" class=\"dataframe\">\n",
       "  <thead>\n",
       "    <tr style=\"text-align: right;\">\n",
       "      <th></th>\n",
       "      <th>category</th>\n",
       "    </tr>\n",
       "  </thead>\n",
       "  <tbody>\n",
       "    <tr>\n",
       "      <th>count</th>\n",
       "      <td>162973.000000</td>\n",
       "    </tr>\n",
       "    <tr>\n",
       "      <th>mean</th>\n",
       "      <td>0.225436</td>\n",
       "    </tr>\n",
       "    <tr>\n",
       "      <th>std</th>\n",
       "      <td>0.781279</td>\n",
       "    </tr>\n",
       "    <tr>\n",
       "      <th>min</th>\n",
       "      <td>-1.000000</td>\n",
       "    </tr>\n",
       "    <tr>\n",
       "      <th>25%</th>\n",
       "      <td>0.000000</td>\n",
       "    </tr>\n",
       "    <tr>\n",
       "      <th>50%</th>\n",
       "      <td>0.000000</td>\n",
       "    </tr>\n",
       "    <tr>\n",
       "      <th>75%</th>\n",
       "      <td>1.000000</td>\n",
       "    </tr>\n",
       "    <tr>\n",
       "      <th>max</th>\n",
       "      <td>1.000000</td>\n",
       "    </tr>\n",
       "  </tbody>\n",
       "</table>\n",
       "</div>"
      ],
      "text/plain": [
       "            category\n",
       "count  162973.000000\n",
       "mean        0.225436\n",
       "std         0.781279\n",
       "min        -1.000000\n",
       "25%         0.000000\n",
       "50%         0.000000\n",
       "75%         1.000000\n",
       "max         1.000000"
      ]
     },
     "execution_count": 3,
     "metadata": {},
     "output_type": "execute_result"
    }
   ],
   "source": [
    "# Step-3:- Checking the description of our Twitter_Data_df data:\n",
    "\n",
    "print('Description of our Twitter_Data_df data is:- ')\n",
    "Twitter_Data_df.describe()"
   ]
  },
  {
   "cell_type": "code",
   "execution_count": 4,
   "id": "b59ac69b",
   "metadata": {},
   "outputs": [
    {
     "data": {
      "text/html": [
       "<div>\n",
       "<style scoped>\n",
       "    .dataframe tbody tr th:only-of-type {\n",
       "        vertical-align: middle;\n",
       "    }\n",
       "\n",
       "    .dataframe tbody tr th {\n",
       "        vertical-align: top;\n",
       "    }\n",
       "\n",
       "    .dataframe thead th {\n",
       "        text-align: right;\n",
       "    }\n",
       "</style>\n",
       "<table border=\"1\" class=\"dataframe\">\n",
       "  <thead>\n",
       "    <tr style=\"text-align: right;\">\n",
       "      <th></th>\n",
       "      <th>clean_text</th>\n",
       "      <th>category</th>\n",
       "    </tr>\n",
       "  </thead>\n",
       "  <tbody>\n",
       "    <tr>\n",
       "      <th>0</th>\n",
       "      <td>when modi promised “minimum government maximum...</td>\n",
       "      <td>-1.0</td>\n",
       "    </tr>\n",
       "    <tr>\n",
       "      <th>1</th>\n",
       "      <td>talk all the nonsense and continue all the dra...</td>\n",
       "      <td>0.0</td>\n",
       "    </tr>\n",
       "    <tr>\n",
       "      <th>2</th>\n",
       "      <td>what did just say vote for modi  welcome bjp t...</td>\n",
       "      <td>1.0</td>\n",
       "    </tr>\n",
       "    <tr>\n",
       "      <th>3</th>\n",
       "      <td>asking his supporters prefix chowkidar their n...</td>\n",
       "      <td>1.0</td>\n",
       "    </tr>\n",
       "    <tr>\n",
       "      <th>4</th>\n",
       "      <td>answer who among these the most powerful world...</td>\n",
       "      <td>1.0</td>\n",
       "    </tr>\n",
       "    <tr>\n",
       "      <th>5</th>\n",
       "      <td>kiya tho refresh maarkefir comment karo</td>\n",
       "      <td>0.0</td>\n",
       "    </tr>\n",
       "    <tr>\n",
       "      <th>6</th>\n",
       "      <td>surat women perform yagna seeks divine grace f...</td>\n",
       "      <td>0.0</td>\n",
       "    </tr>\n",
       "    <tr>\n",
       "      <th>7</th>\n",
       "      <td>this comes from cabinet which has scholars lik...</td>\n",
       "      <td>0.0</td>\n",
       "    </tr>\n",
       "    <tr>\n",
       "      <th>8</th>\n",
       "      <td>with upcoming election india saga going import...</td>\n",
       "      <td>1.0</td>\n",
       "    </tr>\n",
       "    <tr>\n",
       "      <th>9</th>\n",
       "      <td>gandhi was gay does modi</td>\n",
       "      <td>1.0</td>\n",
       "    </tr>\n",
       "  </tbody>\n",
       "</table>\n",
       "</div>"
      ],
      "text/plain": [
       "                                          clean_text  category\n",
       "0  when modi promised “minimum government maximum...      -1.0\n",
       "1  talk all the nonsense and continue all the dra...       0.0\n",
       "2  what did just say vote for modi  welcome bjp t...       1.0\n",
       "3  asking his supporters prefix chowkidar their n...       1.0\n",
       "4  answer who among these the most powerful world...       1.0\n",
       "5           kiya tho refresh maarkefir comment karo        0.0\n",
       "6  surat women perform yagna seeks divine grace f...       0.0\n",
       "7  this comes from cabinet which has scholars lik...       0.0\n",
       "8  with upcoming election india saga going import...       1.0\n",
       "9                         gandhi was gay does modi         1.0"
      ]
     },
     "execution_count": 4,
     "metadata": {},
     "output_type": "execute_result"
    }
   ],
   "source": [
    "# Step-4:- Viewing the starting 10 records of Twitter_Data_df Data:\n",
    "\n",
    "Twitter_Data_df.head(10)"
   ]
  },
  {
   "cell_type": "markdown",
   "id": "6fbc349f",
   "metadata": {},
   "source": [
    "# Task-2:- \n",
    "\n",
    "**Change our dependent variable to categorical. ( 0 to “Neutral,” -1 to “Negative”, 1 to “Positive”)**"
   ]
  },
  {
   "cell_type": "code",
   "execution_count": 5,
   "id": "55d0a1de",
   "metadata": {},
   "outputs": [
    {
     "name": "stdout",
     "output_type": "stream",
     "text": [
      "The unique values in our category column are:-  [-1.  0.  1. nan]\n",
      "View the total value:- \n",
      " category\n",
      " 1.0    72250\n",
      " 0.0    55213\n",
      "-1.0    35510\n",
      "Name: count, dtype: int64\n"
     ]
    }
   ],
   "source": [
    "# Step-1:- Checking out the unique values in our 'category' column:\n",
    "\n",
    "print('The unique values in our category column are:- ',\n",
    "      Twitter_Data_df['category'].unique())\n",
    "\n",
    "print('View the total value:- \\n', \n",
    "      Twitter_Data_df['category'].value_counts())"
   ]
  },
  {
   "cell_type": "code",
   "execution_count": 6,
   "id": "016f9864",
   "metadata": {},
   "outputs": [
    {
     "name": "stdout",
     "output_type": "stream",
     "text": [
      "The values after Change dependent variable to categorical:- \n",
      " ['Negative' 'Neutral' 'Positive' nan]\n"
     ]
    }
   ],
   "source": [
    "# Step-2:- Change dependent variable to categorical:\n",
    "Twitter_Data_df['category'] = Twitter_Data_df[\n",
    "    'category'].map({0: 'Neutral', -1: 'Negative', 1: 'Positive'})\n",
    "\n",
    "# Step-3:- Checking out the unique values in our 'category' column after change:\n",
    "print('The values after Change dependent variable to categorical:- \\n',\n",
    "      Twitter_Data_df['category'].unique())"
   ]
  },
  {
   "cell_type": "markdown",
   "id": "1a1280d3",
   "metadata": {},
   "source": [
    "# Task-3:- \n",
    "\n",
    "**Do Missing value analysis and drop all null/missing values**"
   ]
  },
  {
   "cell_type": "code",
   "execution_count": 7,
   "id": "1bbe7623",
   "metadata": {},
   "outputs": [
    {
     "data": {
      "text/plain": [
       "clean_text    4\n",
       "category      7\n",
       "dtype: int64"
      ]
     },
     "execution_count": 7,
     "metadata": {},
     "output_type": "execute_result"
    }
   ],
   "source": [
    "# Step-1:- Checking out the total null/missing values in our dataset:\n",
    "\n",
    "Twitter_Data_df.isnull().sum()"
   ]
  },
  {
   "cell_type": "code",
   "execution_count": 8,
   "id": "7e05078b",
   "metadata": {},
   "outputs": [
    {
     "data": {
      "text/plain": [
       "clean_text    0\n",
       "category      0\n",
       "dtype: int64"
      ]
     },
     "execution_count": 8,
     "metadata": {},
     "output_type": "execute_result"
    }
   ],
   "source": [
    "# Step-2:- Drop all null/missing values present in our dataset:\n",
    "Twitter_Data_df.dropna(inplace=True)\n",
    "\n",
    "# Step-3:- Checking the nan values in our dataset after droping all the nan values:\n",
    "Twitter_Data_df.isnull().sum()"
   ]
  },
  {
   "cell_type": "markdown",
   "id": "650fb408",
   "metadata": {},
   "source": [
    "# Task-4:- \n",
    "\n",
    "**Do text cleaning. (remove every symbol except alphanumeric, transform all words to lower case, and remove punctuation and stopwords )**"
   ]
  },
  {
   "cell_type": "code",
   "execution_count": 9,
   "id": "e4ba45e0",
   "metadata": {},
   "outputs": [
    {
     "data": {
      "text/html": [
       "<div>\n",
       "<style scoped>\n",
       "    .dataframe tbody tr th:only-of-type {\n",
       "        vertical-align: middle;\n",
       "    }\n",
       "\n",
       "    .dataframe tbody tr th {\n",
       "        vertical-align: top;\n",
       "    }\n",
       "\n",
       "    .dataframe thead th {\n",
       "        text-align: right;\n",
       "    }\n",
       "</style>\n",
       "<table border=\"1\" class=\"dataframe\">\n",
       "  <thead>\n",
       "    <tr style=\"text-align: right;\">\n",
       "      <th></th>\n",
       "      <th>clean_text</th>\n",
       "      <th>category</th>\n",
       "      <th>cleaned_text</th>\n",
       "    </tr>\n",
       "  </thead>\n",
       "  <tbody>\n",
       "    <tr>\n",
       "      <th>0</th>\n",
       "      <td>when modi promised “minimum government maximum...</td>\n",
       "      <td>Negative</td>\n",
       "      <td>modi promised minimum government maximum gover...</td>\n",
       "    </tr>\n",
       "    <tr>\n",
       "      <th>1</th>\n",
       "      <td>talk all the nonsense and continue all the dra...</td>\n",
       "      <td>Neutral</td>\n",
       "      <td>talk nonsense continue drama vote modi</td>\n",
       "    </tr>\n",
       "    <tr>\n",
       "      <th>2</th>\n",
       "      <td>what did just say vote for modi  welcome bjp t...</td>\n",
       "      <td>Positive</td>\n",
       "      <td>say vote modi welcome bjp told rahul main camp...</td>\n",
       "    </tr>\n",
       "    <tr>\n",
       "      <th>3</th>\n",
       "      <td>asking his supporters prefix chowkidar their n...</td>\n",
       "      <td>Positive</td>\n",
       "      <td>asking supporters prefix chowkidar names modi ...</td>\n",
       "    </tr>\n",
       "    <tr>\n",
       "      <th>4</th>\n",
       "      <td>answer who among these the most powerful world...</td>\n",
       "      <td>Positive</td>\n",
       "      <td>answer among powerful world leader today trump...</td>\n",
       "    </tr>\n",
       "    <tr>\n",
       "      <th>5</th>\n",
       "      <td>kiya tho refresh maarkefir comment karo</td>\n",
       "      <td>Neutral</td>\n",
       "      <td>kiya tho refresh maarkefir comment karo</td>\n",
       "    </tr>\n",
       "    <tr>\n",
       "      <th>6</th>\n",
       "      <td>surat women perform yagna seeks divine grace f...</td>\n",
       "      <td>Neutral</td>\n",
       "      <td>surat women perform yagna seeks divine grace n...</td>\n",
       "    </tr>\n",
       "    <tr>\n",
       "      <th>7</th>\n",
       "      <td>this comes from cabinet which has scholars lik...</td>\n",
       "      <td>Neutral</td>\n",
       "      <td>comes cabinet scholars like modi smriti hema t...</td>\n",
       "    </tr>\n",
       "    <tr>\n",
       "      <th>8</th>\n",
       "      <td>with upcoming election india saga going import...</td>\n",
       "      <td>Positive</td>\n",
       "      <td>upcoming election india saga going important p...</td>\n",
       "    </tr>\n",
       "    <tr>\n",
       "      <th>9</th>\n",
       "      <td>gandhi was gay does modi</td>\n",
       "      <td>Positive</td>\n",
       "      <td>gandhi gay modi</td>\n",
       "    </tr>\n",
       "  </tbody>\n",
       "</table>\n",
       "</div>"
      ],
      "text/plain": [
       "                                          clean_text  category  \\\n",
       "0  when modi promised “minimum government maximum...  Negative   \n",
       "1  talk all the nonsense and continue all the dra...   Neutral   \n",
       "2  what did just say vote for modi  welcome bjp t...  Positive   \n",
       "3  asking his supporters prefix chowkidar their n...  Positive   \n",
       "4  answer who among these the most powerful world...  Positive   \n",
       "5           kiya tho refresh maarkefir comment karo    Neutral   \n",
       "6  surat women perform yagna seeks divine grace f...   Neutral   \n",
       "7  this comes from cabinet which has scholars lik...   Neutral   \n",
       "8  with upcoming election india saga going import...  Positive   \n",
       "9                         gandhi was gay does modi    Positive   \n",
       "\n",
       "                                        cleaned_text  \n",
       "0  modi promised minimum government maximum gover...  \n",
       "1             talk nonsense continue drama vote modi  \n",
       "2  say vote modi welcome bjp told rahul main camp...  \n",
       "3  asking supporters prefix chowkidar names modi ...  \n",
       "4  answer among powerful world leader today trump...  \n",
       "5            kiya tho refresh maarkefir comment karo  \n",
       "6  surat women perform yagna seeks divine grace n...  \n",
       "7  comes cabinet scholars like modi smriti hema t...  \n",
       "8  upcoming election india saga going important p...  \n",
       "9                                    gandhi gay modi  "
      ]
     },
     "execution_count": 9,
     "metadata": {},
     "output_type": "execute_result"
    }
   ],
   "source": [
    "# Step-1:- Set the stopwords to 'english':\n",
    "stop_words = set(stopwords.words('english'))\n",
    "\n",
    "# Step-2:- Creating a function to do text cleaning:\n",
    "def clean_text(text):\n",
    "    text = re.sub(r'[^a-zA-Z0-9\\s]', '', text)\n",
    "    text = text.lower()\n",
    "    text = ' '.join(word for word in text.split() if word not in stop_words)\n",
    "    return text\n",
    "\n",
    "# Step-3:- Now apply the function to our 'clean_text' column:\n",
    "Twitter_Data_df['cleaned_text'] = Twitter_Data_df['clean_text'].apply(clean_text)\n",
    "\n",
    "# Step-4:- Viewing our Twitter_Data_df dataset after performing text cleaning is:\n",
    "Twitter_Data_df.head(10)"
   ]
  },
  {
   "cell_type": "markdown",
   "id": "f2170a93",
   "metadata": {},
   "source": [
    "# Task-5:- \n",
    "\n",
    "**Create a new column and find the length of each sentence (how many words they contain)**"
   ]
  },
  {
   "cell_type": "code",
   "execution_count": 10,
   "id": "9897f70b",
   "metadata": {},
   "outputs": [
    {
     "name": "stdout",
     "output_type": "stream",
     "text": [
      "Shape of the Twitter_Data_df Dataset before create a new column is:- \n",
      " (162969, 3) \n",
      "\n",
      "Shape of the Twitter_Data_df Dataset after create a new column is:- \n",
      " (162969, 4)\n"
     ]
    },
    {
     "data": {
      "text/html": [
       "<div>\n",
       "<style scoped>\n",
       "    .dataframe tbody tr th:only-of-type {\n",
       "        vertical-align: middle;\n",
       "    }\n",
       "\n",
       "    .dataframe tbody tr th {\n",
       "        vertical-align: top;\n",
       "    }\n",
       "\n",
       "    .dataframe thead th {\n",
       "        text-align: right;\n",
       "    }\n",
       "</style>\n",
       "<table border=\"1\" class=\"dataframe\">\n",
       "  <thead>\n",
       "    <tr style=\"text-align: right;\">\n",
       "      <th></th>\n",
       "      <th>clean_text</th>\n",
       "      <th>category</th>\n",
       "      <th>cleaned_text</th>\n",
       "      <th>sentence_length</th>\n",
       "    </tr>\n",
       "  </thead>\n",
       "  <tbody>\n",
       "    <tr>\n",
       "      <th>0</th>\n",
       "      <td>when modi promised “minimum government maximum...</td>\n",
       "      <td>Negative</td>\n",
       "      <td>modi promised minimum government maximum gover...</td>\n",
       "      <td>21</td>\n",
       "    </tr>\n",
       "    <tr>\n",
       "      <th>1</th>\n",
       "      <td>talk all the nonsense and continue all the dra...</td>\n",
       "      <td>Neutral</td>\n",
       "      <td>talk nonsense continue drama vote modi</td>\n",
       "      <td>6</td>\n",
       "    </tr>\n",
       "    <tr>\n",
       "      <th>2</th>\n",
       "      <td>what did just say vote for modi  welcome bjp t...</td>\n",
       "      <td>Positive</td>\n",
       "      <td>say vote modi welcome bjp told rahul main camp...</td>\n",
       "      <td>13</td>\n",
       "    </tr>\n",
       "    <tr>\n",
       "      <th>3</th>\n",
       "      <td>asking his supporters prefix chowkidar their n...</td>\n",
       "      <td>Positive</td>\n",
       "      <td>asking supporters prefix chowkidar names modi ...</td>\n",
       "      <td>19</td>\n",
       "    </tr>\n",
       "    <tr>\n",
       "      <th>4</th>\n",
       "      <td>answer who among these the most powerful world...</td>\n",
       "      <td>Positive</td>\n",
       "      <td>answer among powerful world leader today trump...</td>\n",
       "      <td>10</td>\n",
       "    </tr>\n",
       "    <tr>\n",
       "      <th>5</th>\n",
       "      <td>kiya tho refresh maarkefir comment karo</td>\n",
       "      <td>Neutral</td>\n",
       "      <td>kiya tho refresh maarkefir comment karo</td>\n",
       "      <td>6</td>\n",
       "    </tr>\n",
       "    <tr>\n",
       "      <th>6</th>\n",
       "      <td>surat women perform yagna seeks divine grace f...</td>\n",
       "      <td>Neutral</td>\n",
       "      <td>surat women perform yagna seeks divine grace n...</td>\n",
       "      <td>10</td>\n",
       "    </tr>\n",
       "    <tr>\n",
       "      <th>7</th>\n",
       "      <td>this comes from cabinet which has scholars lik...</td>\n",
       "      <td>Neutral</td>\n",
       "      <td>comes cabinet scholars like modi smriti hema t...</td>\n",
       "      <td>9</td>\n",
       "    </tr>\n",
       "    <tr>\n",
       "      <th>8</th>\n",
       "      <td>with upcoming election india saga going import...</td>\n",
       "      <td>Positive</td>\n",
       "      <td>upcoming election india saga going important p...</td>\n",
       "      <td>21</td>\n",
       "    </tr>\n",
       "    <tr>\n",
       "      <th>9</th>\n",
       "      <td>gandhi was gay does modi</td>\n",
       "      <td>Positive</td>\n",
       "      <td>gandhi gay modi</td>\n",
       "      <td>3</td>\n",
       "    </tr>\n",
       "  </tbody>\n",
       "</table>\n",
       "</div>"
      ],
      "text/plain": [
       "                                          clean_text  category  \\\n",
       "0  when modi promised “minimum government maximum...  Negative   \n",
       "1  talk all the nonsense and continue all the dra...   Neutral   \n",
       "2  what did just say vote for modi  welcome bjp t...  Positive   \n",
       "3  asking his supporters prefix chowkidar their n...  Positive   \n",
       "4  answer who among these the most powerful world...  Positive   \n",
       "5           kiya tho refresh maarkefir comment karo    Neutral   \n",
       "6  surat women perform yagna seeks divine grace f...   Neutral   \n",
       "7  this comes from cabinet which has scholars lik...   Neutral   \n",
       "8  with upcoming election india saga going import...  Positive   \n",
       "9                         gandhi was gay does modi    Positive   \n",
       "\n",
       "                                        cleaned_text  sentence_length  \n",
       "0  modi promised minimum government maximum gover...               21  \n",
       "1             talk nonsense continue drama vote modi                6  \n",
       "2  say vote modi welcome bjp told rahul main camp...               13  \n",
       "3  asking supporters prefix chowkidar names modi ...               19  \n",
       "4  answer among powerful world leader today trump...               10  \n",
       "5            kiya tho refresh maarkefir comment karo                6  \n",
       "6  surat women perform yagna seeks divine grace n...               10  \n",
       "7  comes cabinet scholars like modi smriti hema t...                9  \n",
       "8  upcoming election india saga going important p...               21  \n",
       "9                                    gandhi gay modi                3  "
      ]
     },
     "execution_count": 10,
     "metadata": {},
     "output_type": "execute_result"
    }
   ],
   "source": [
    "# Step-1:- Checking the shape of our data before create a new column :\n",
    "print('Shape of the Twitter_Data_df Dataset before create a new column is:- \\n',\n",
    "      Twitter_Data_df.shape,'\\n')\n",
    "\n",
    "# Step-2:- Creating a function to count words in a sentence:\n",
    "def count_words(cleaned_text):\n",
    "    return len(cleaned_text.split())\n",
    "\n",
    "# Step-3:- Create a new column as 'sentence_length' for length of each sentence:\n",
    "Twitter_Data_df['sentence_length'] = Twitter_Data_df[\n",
    "    'cleaned_text'].apply(count_words)\n",
    "\n",
    "# Step-4:- Checking the shape of our data after create a new column :\n",
    "print('Shape of the Twitter_Data_df Dataset after create a new column is:- \\n',\n",
    "      Twitter_Data_df.shape)\n",
    "\n",
    "# Step-5:- Viewing our Twitter_Data_df dataset after find the length of each sentence is:\n",
    "Twitter_Data_df.head(10)"
   ]
  },
  {
   "cell_type": "markdown",
   "id": "b9e63fb2",
   "metadata": {},
   "source": [
    "# Task-6:- \n",
    "\n",
    "**Split data into dependent(X) and independent(y) dataframe**"
   ]
  },
  {
   "cell_type": "code",
   "execution_count": 11,
   "id": "59ee98de",
   "metadata": {},
   "outputs": [
    {
     "name": "stdout",
     "output_type": "stream",
     "text": [
      "The shape of our X is:-  (162969,)\n",
      "The shape of our y is:-  (162969,)\n"
     ]
    },
    {
     "data": {
      "text/plain": [
       "0    modi promised minimum government maximum gover...\n",
       "1               talk nonsense continue drama vote modi\n",
       "2    say vote modi welcome bjp told rahul main camp...\n",
       "3    asking supporters prefix chowkidar names modi ...\n",
       "4    answer among powerful world leader today trump...\n",
       "Name: cleaned_text, dtype: object"
      ]
     },
     "execution_count": 11,
     "metadata": {},
     "output_type": "execute_result"
    }
   ],
   "source": [
    "# Step-1:- Split data into dependent(X) and independent(y):\n",
    "X = Twitter_Data_df['cleaned_text']\n",
    "y = Twitter_Data_df['category']\n",
    "\n",
    "# Step-2:- To check the shape of X & y:\n",
    "print(\"The shape of our X is:- \",X.shape)\n",
    "print(\"The shape of our y is:- \",y.shape)\n",
    "\n",
    "# Step-3:- Checking the X data:\n",
    "X.head()"
   ]
  },
  {
   "cell_type": "code",
   "execution_count": 12,
   "id": "c8cd5ae3",
   "metadata": {},
   "outputs": [
    {
     "data": {
      "text/plain": [
       "0    Negative\n",
       "1     Neutral\n",
       "2    Positive\n",
       "3    Positive\n",
       "4    Positive\n",
       "Name: category, dtype: object"
      ]
     },
     "execution_count": 12,
     "metadata": {},
     "output_type": "execute_result"
    }
   ],
   "source": [
    "# Step-4:- Checking the y data:\n",
    "\n",
    "y.head()"
   ]
  },
  {
   "cell_type": "markdown",
   "id": "8d3cceb1",
   "metadata": {},
   "source": [
    "# Task-7:- \n",
    "\n",
    "**Do operations on text data**\n",
    "\n",
    "- **Hints:**\n",
    "\n",
    "    - **Do one-hot encoding for each sentence (use TensorFlow)**\n",
    "     - **Add padding from the front side (use Tensorflow)**\n",
    "\n",
    "     - **Build an LSTM model and compile it (describe features, input length,       vocabulary size, information drop-out layer, activation function for       output, )**\n",
    "     \n",
    "     - **Do dummy variable creation for the dependent variable**\n",
    "    \n",
    "     - **split the data into tests and train** "
   ]
  },
  {
   "cell_type": "markdown",
   "id": "0763d29d",
   "metadata": {},
   "source": [
    "**Q-1:- Doing one-hot encoding for each sentence (use TensorFlow)**"
   ]
  },
  {
   "cell_type": "code",
   "execution_count": 13,
   "id": "686a09a0",
   "metadata": {},
   "outputs": [
    {
     "data": {
      "text/plain": [
       "array([[   0,    0,    0, ..., 4033, 5335, 2687],\n",
       "       [   0,    0,    0, ...,  703,    9,    1],\n",
       "       [   0,    0,    0, ...,   46,    1, 3861],\n",
       "       ...,\n",
       "       [   0,    0,    0, ..., 2472, 7332,  316],\n",
       "       [   0,    0,    0, ...,  472,  285,  514],\n",
       "       [   0,    0,    0, ...,   48,  366,  105]])"
      ]
     },
     "execution_count": 13,
     "metadata": {},
     "output_type": "execute_result"
    }
   ],
   "source": [
    "# Step-1:- Doing one-hot encoding for each sentence:\n",
    "tokenizer = Tokenizer()\n",
    "tokenizer.fit_on_texts(X)\n",
    "X = tokenizer.texts_to_sequences(X)\n",
    "X_Encoded = pad_sequences(X, padding='pre')\n",
    "\n",
    "# Step-2:- Checking the encoded data:\n",
    "X_Encoded"
   ]
  },
  {
   "cell_type": "markdown",
   "id": "8c63e424",
   "metadata": {},
   "source": [
    "**Q-2:- Adding padding from the front side (use Tensorflow)**"
   ]
  },
  {
   "cell_type": "code",
   "execution_count": 14,
   "id": "b762bf6b",
   "metadata": {},
   "outputs": [
    {
     "data": {
      "text/plain": [
       "array([[   0,    0,    0, ..., 4033, 5335, 2687],\n",
       "       [   0,    0,    0, ...,  703,    9,    1],\n",
       "       [   0,    0,    0, ...,   46,    1, 3861],\n",
       "       ...,\n",
       "       [   0,    0,    0, ..., 2472, 7332,  316],\n",
       "       [   0,    0,    0, ...,  472,  285,  514],\n",
       "       [   0,    0,    0, ...,   48,  366,  105]])"
      ]
     },
     "execution_count": 14,
     "metadata": {},
     "output_type": "execute_result"
    }
   ],
   "source": [
    "# Step-1:- Adding padding from the front side:\n",
    "X_padded = pad_sequences(X_Encoded, padding='pre')\n",
    "\n",
    "# Step-2:- Checking the padding data:\n",
    "X_padded"
   ]
  },
  {
   "cell_type": "markdown",
   "id": "02e9387d",
   "metadata": {},
   "source": [
    "**Q-3:- Build an LSTM model and compile it (describe features, input length, vocabulary size, information drop-out layer, activation function for output, )**"
   ]
  },
  {
   "cell_type": "code",
   "execution_count": 15,
   "id": "02b561c1",
   "metadata": {},
   "outputs": [
    {
     "name": "stdout",
     "output_type": "stream",
     "text": [
      "WARNING:tensorflow:From C:\\Users\\ASUS\\anaconda3\\Lib\\site-packages\\keras\\src\\backend.py:873: The name tf.get_default_graph is deprecated. Please use tf.compat.v1.get_default_graph instead.\n",
      "\n",
      "WARNING:tensorflow:From C:\\Users\\ASUS\\anaconda3\\Lib\\site-packages\\keras\\src\\optimizers\\__init__.py:309: The name tf.train.Optimizer is deprecated. Please use tf.compat.v1.train.Optimizer instead.\n",
      "\n"
     ]
    }
   ],
   "source": [
    "# Step-1:- Build our LSTM model:\n",
    "\n",
    "vocab_size = len(tokenizer.word_index) + 1\n",
    "input_length = X_Encoded.shape[1]\n",
    "\n",
    "model = Sequential()\n",
    "model.add(Embedding(input_dim=vocab_size, output_dim=100, \n",
    "                    input_length=input_length))\n",
    "model.add(LSTM(units=64, dropout=0.2, recurrent_dropout=0.2))\n",
    "model.add(Dense(units=3, activation='softmax'))\n",
    "\n",
    "# Step-2:- Compile our LSTM Model:\n",
    "model.compile(loss='categorical_crossentropy', optimizer='adam',\n",
    "              metrics=['accuracy'])"
   ]
  },
  {
   "cell_type": "markdown",
   "id": "6895d07e",
   "metadata": {},
   "source": [
    "**Q-4:- Doing dummy variable creation for the dependent variable**"
   ]
  },
  {
   "cell_type": "code",
   "execution_count": 16,
   "id": "69e88d25",
   "metadata": {},
   "outputs": [
    {
     "data": {
      "text/html": [
       "<div>\n",
       "<style scoped>\n",
       "    .dataframe tbody tr th:only-of-type {\n",
       "        vertical-align: middle;\n",
       "    }\n",
       "\n",
       "    .dataframe tbody tr th {\n",
       "        vertical-align: top;\n",
       "    }\n",
       "\n",
       "    .dataframe thead th {\n",
       "        text-align: right;\n",
       "    }\n",
       "</style>\n",
       "<table border=\"1\" class=\"dataframe\">\n",
       "  <thead>\n",
       "    <tr style=\"text-align: right;\">\n",
       "      <th></th>\n",
       "      <th>Negative</th>\n",
       "      <th>Neutral</th>\n",
       "      <th>Positive</th>\n",
       "    </tr>\n",
       "  </thead>\n",
       "  <tbody>\n",
       "    <tr>\n",
       "      <th>0</th>\n",
       "      <td>1</td>\n",
       "      <td>0</td>\n",
       "      <td>0</td>\n",
       "    </tr>\n",
       "    <tr>\n",
       "      <th>1</th>\n",
       "      <td>0</td>\n",
       "      <td>1</td>\n",
       "      <td>0</td>\n",
       "    </tr>\n",
       "    <tr>\n",
       "      <th>2</th>\n",
       "      <td>0</td>\n",
       "      <td>0</td>\n",
       "      <td>1</td>\n",
       "    </tr>\n",
       "    <tr>\n",
       "      <th>3</th>\n",
       "      <td>0</td>\n",
       "      <td>0</td>\n",
       "      <td>1</td>\n",
       "    </tr>\n",
       "    <tr>\n",
       "      <th>4</th>\n",
       "      <td>0</td>\n",
       "      <td>0</td>\n",
       "      <td>1</td>\n",
       "    </tr>\n",
       "    <tr>\n",
       "      <th>...</th>\n",
       "      <td>...</td>\n",
       "      <td>...</td>\n",
       "      <td>...</td>\n",
       "    </tr>\n",
       "    <tr>\n",
       "      <th>162975</th>\n",
       "      <td>1</td>\n",
       "      <td>0</td>\n",
       "      <td>0</td>\n",
       "    </tr>\n",
       "    <tr>\n",
       "      <th>162976</th>\n",
       "      <td>1</td>\n",
       "      <td>0</td>\n",
       "      <td>0</td>\n",
       "    </tr>\n",
       "    <tr>\n",
       "      <th>162977</th>\n",
       "      <td>0</td>\n",
       "      <td>1</td>\n",
       "      <td>0</td>\n",
       "    </tr>\n",
       "    <tr>\n",
       "      <th>162978</th>\n",
       "      <td>0</td>\n",
       "      <td>1</td>\n",
       "      <td>0</td>\n",
       "    </tr>\n",
       "    <tr>\n",
       "      <th>162979</th>\n",
       "      <td>0</td>\n",
       "      <td>0</td>\n",
       "      <td>1</td>\n",
       "    </tr>\n",
       "  </tbody>\n",
       "</table>\n",
       "<p>162969 rows × 3 columns</p>\n",
       "</div>"
      ],
      "text/plain": [
       "        Negative  Neutral  Positive\n",
       "0              1        0         0\n",
       "1              0        1         0\n",
       "2              0        0         1\n",
       "3              0        0         1\n",
       "4              0        0         1\n",
       "...          ...      ...       ...\n",
       "162975         1        0         0\n",
       "162976         1        0         0\n",
       "162977         0        1         0\n",
       "162978         0        1         0\n",
       "162979         0        0         1\n",
       "\n",
       "[162969 rows x 3 columns]"
      ]
     },
     "execution_count": 16,
     "metadata": {},
     "output_type": "execute_result"
    }
   ],
   "source": [
    "# Step-1:- Create dummy variables for the categorical features:\n",
    "dummy_variables = pd.get_dummies(y).astype(int)\n",
    "\n",
    "# Step-2:- Concatenate the original DataFrame with the dummy variables:\n",
    "y_dummy = pd.concat([y,dummy_variables], axis=1)\n",
    "\n",
    "# Step-3:- Drop the original categorical features from the DataFrame:\n",
    "y_dummy.drop(columns=y_dummy.columns[0], inplace=True) \n",
    "\n",
    "# Step-4:- Checking the dummy data:\n",
    "y_dummy"
   ]
  },
  {
   "cell_type": "markdown",
   "id": "fd50c634",
   "metadata": {},
   "source": [
    "**Q-5:- split the data into tests and train** "
   ]
  },
  {
   "cell_type": "code",
   "execution_count": 17,
   "id": "998287fa",
   "metadata": {},
   "outputs": [
    {
     "name": "stdout",
     "output_type": "stream",
     "text": [
      "The shape of X_train is:-  (130375, 43)\n",
      "The shape of X_test is:-  (32594, 43)\n",
      "The shape of y_train is:-  (130375, 3)\n",
      "The shape of y_test is:-  (32594, 3)\n"
     ]
    }
   ],
   "source": [
    "# Step-1:- Split our dataset into train and test datasets:\n",
    "X_train, X_test, y_train, y_test = train_test_split(X_padded, y_dummy,\n",
    "                            test_size=0.2, random_state= 7)\n",
    "\n",
    "\n",
    "# Step-2:- To check the shape of \"X_train\", \"X_test\" & \"y_train\", \"y_test\":\n",
    "print(\"The shape of X_train is:- \", X_train.shape)\n",
    "print(\"The shape of X_test is:- \", X_test.shape)\n",
    "print(\"The shape of y_train is:- \", y_train.shape)\n",
    "print(\"The shape of y_test is:- \", y_test.shape)"
   ]
  },
  {
   "cell_type": "markdown",
   "id": "aa9aabea",
   "metadata": {},
   "source": [
    "# Task-8:- \n",
    "\n",
    "**Train new model**"
   ]
  },
  {
   "cell_type": "code",
   "execution_count": 18,
   "id": "b3234d63",
   "metadata": {},
   "outputs": [
    {
     "name": "stdout",
     "output_type": "stream",
     "text": [
      "Epoch 1/10\n",
      "WARNING:tensorflow:From C:\\Users\\ASUS\\anaconda3\\Lib\\site-packages\\keras\\src\\utils\\tf_utils.py:492: The name tf.ragged.RaggedTensorValue is deprecated. Please use tf.compat.v1.ragged.RaggedTensorValue instead.\n",
      "\n",
      "WARNING:tensorflow:From C:\\Users\\ASUS\\anaconda3\\Lib\\site-packages\\keras\\src\\engine\\base_layer_utils.py:384: The name tf.executing_eagerly_outside_functions is deprecated. Please use tf.compat.v1.executing_eagerly_outside_functions instead.\n",
      "\n",
      "4075/4075 [==============================] - 593s 144ms/step - loss: 0.3634 - accuracy: 0.8760 - val_loss: 0.2669 - val_accuracy: 0.9208\n",
      "Epoch 2/10\n",
      "4075/4075 [==============================] - 578s 142ms/step - loss: 0.2182 - accuracy: 0.9326 - val_loss: 0.2843 - val_accuracy: 0.9109\n",
      "Epoch 3/10\n",
      "4075/4075 [==============================] - 586s 144ms/step - loss: 0.1505 - accuracy: 0.9531 - val_loss: 0.3126 - val_accuracy: 0.9126\n",
      "Epoch 4/10\n",
      "4075/4075 [==============================] - 588s 144ms/step - loss: 0.1022 - accuracy: 0.9674 - val_loss: 0.3637 - val_accuracy: 0.9003\n",
      "Epoch 5/10\n",
      "4075/4075 [==============================] - 584s 143ms/step - loss: 0.0683 - accuracy: 0.9778 - val_loss: 0.4627 - val_accuracy: 0.8852\n",
      "Epoch 6/10\n",
      "4075/4075 [==============================] - 582s 143ms/step - loss: 0.0466 - accuracy: 0.9848 - val_loss: 0.5626 - val_accuracy: 0.8766\n",
      "Epoch 7/10\n",
      "4075/4075 [==============================] - 587s 144ms/step - loss: 0.0351 - accuracy: 0.9888 - val_loss: 0.5775 - val_accuracy: 0.8759\n",
      "Epoch 8/10\n",
      "4075/4075 [==============================] - 575s 141ms/step - loss: 0.0261 - accuracy: 0.9917 - val_loss: 0.6746 - val_accuracy: 0.8771\n",
      "Epoch 9/10\n",
      "4075/4075 [==============================] - 576s 141ms/step - loss: 0.0207 - accuracy: 0.9935 - val_loss: 0.7088 - val_accuracy: 0.8719\n",
      "Epoch 10/10\n",
      "4075/4075 [==============================] - 583s 143ms/step - loss: 0.0172 - accuracy: 0.9948 - val_loss: 0.7209 - val_accuracy: 0.8755\n"
     ]
    },
    {
     "data": {
      "text/plain": [
       "<keras.src.callbacks.History at 0x19e3f648bd0>"
      ]
     },
     "execution_count": 18,
     "metadata": {},
     "output_type": "execute_result"
    }
   ],
   "source": [
    "# Step-1:- Train a new model:\n",
    "\n",
    "model.fit(X_train, y_train, epochs=10, \n",
    "          batch_size=32, validation_data=(X_test, y_test))"
   ]
  },
  {
   "cell_type": "markdown",
   "id": "92745ef6",
   "metadata": {},
   "source": [
    "# Task-9:- \n",
    "\n",
    "**Normalize the prediction as same as the original data(prediction might be in decimal, so whoever is nearest to 1 is predicted as yes and set other as 0)**"
   ]
  },
  {
   "cell_type": "code",
   "execution_count": 19,
   "id": "3abbeabd",
   "metadata": {},
   "outputs": [
    {
     "name": "stdout",
     "output_type": "stream",
     "text": [
      "1019/1019 [==============================] - 8s 7ms/step\n"
     ]
    },
    {
     "data": {
      "text/plain": [
       "array([1, 0, 1, ..., 2, 2, 2], dtype=int64)"
      ]
     },
     "execution_count": 19,
     "metadata": {},
     "output_type": "execute_result"
    }
   ],
   "source": [
    "# Step-1:- Predict the model:\n",
    "y_pred = model.predict(X_test)\n",
    "\n",
    "# Step-2:- Normalize the prediction:\n",
    "y_pred_rounded = np.round(y_pred)\n",
    "\n",
    "# Step-3:- Convert rounded predictions to binary:\n",
    "y_pred_normalized = np.argmax(y_pred_rounded, axis=1)\n",
    "\n",
    "# Step-4:- Printing out the normalize data:\n",
    "y_pred_normalized"
   ]
  },
  {
   "cell_type": "markdown",
   "id": "e4537f52",
   "metadata": {},
   "source": [
    "# Task-10:- \n",
    "\n",
    "**Measure performance metrics and accuracy**"
   ]
  },
  {
   "cell_type": "code",
   "execution_count": 20,
   "id": "61514624",
   "metadata": {},
   "outputs": [
    {
     "name": "stdout",
     "output_type": "stream",
     "text": [
      "The accuracy score is:-  0.8750997116033625\n"
     ]
    }
   ],
   "source": [
    "# Step-1:- Measure performance metrics and accuracy:\n",
    "accuracy = accuracy_score(np.argmax(y_test, axis=1), y_pred_normalized)\n",
    "\n",
    "# Step-2:- Printing out the accuracy score:\n",
    "print(\"The accuracy score is:- \", accuracy)"
   ]
  },
  {
   "cell_type": "markdown",
   "id": "c700d99b",
   "metadata": {},
   "source": [
    "# Task-11:- \n",
    "\n",
    "**print Classification report**"
   ]
  },
  {
   "cell_type": "code",
   "execution_count": 21,
   "id": "f32359c2",
   "metadata": {},
   "outputs": [
    {
     "name": "stdout",
     "output_type": "stream",
     "text": [
      "              precision    recall  f1-score   support\n",
      "\n",
      "           0       0.81      0.81      0.81      7033\n",
      "           1       0.92      0.88      0.90     11052\n",
      "           2       0.88      0.90      0.89     14509\n",
      "\n",
      "    accuracy                           0.88     32594\n",
      "   macro avg       0.87      0.86      0.87     32594\n",
      "weighted avg       0.88      0.88      0.88     32594\n",
      "\n"
     ]
    }
   ],
   "source": [
    "# Step-1:- Printing out the Classification report:\n",
    "\n",
    "print(classification_report(np.argmax(y_test, axis=1), y_pred_normalized))"
   ]
  },
  {
   "cell_type": "markdown",
   "id": "0e323c9b",
   "metadata": {},
   "source": [
    "# Submitted by Biswakant Nayak"
   ]
  }
 ],
 "metadata": {
  "kernelspec": {
   "display_name": "Python 3 (ipykernel)",
   "language": "python",
   "name": "python3"
  },
  "language_info": {
   "codemirror_mode": {
    "name": "ipython",
    "version": 3
   },
   "file_extension": ".py",
   "mimetype": "text/x-python",
   "name": "python",
   "nbconvert_exporter": "python",
   "pygments_lexer": "ipython3",
   "version": "3.11.4"
  }
 },
 "nbformat": 4,
 "nbformat_minor": 5
}
